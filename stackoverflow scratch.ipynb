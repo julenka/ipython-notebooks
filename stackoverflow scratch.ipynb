{
 "metadata": {
  "name": "",
  "signature": "sha256:4c0d46557b2530586e2b653835709f91b5933eff091764a23096936908ab5f6f"
 },
 "nbformat": 3,
 "nbformat_minor": 0,
 "worksheets": [
  {
   "cells": [
    {
     "cell_type": "markdown",
     "metadata": {},
     "source": [
      "http://stackoverflow.com/questions/31104019/compare-lists-of-strings-regarding-the-suffixes-of-their-respective-elements"
     ]
    },
    {
     "cell_type": "code",
     "collapsed": false,
     "input": [
      "myList = ['A_x','B_x','C_x','D_x']\n",
      "\n",
      "myListOfList = [['A_x','B_y','C_x','D_z'],\n",
      "                ['A_y','B_y','C_y','D_y'],\n",
      "                ['A_u','B_y','C_y','D_y'],\n",
      "                ['A_y','C_y','B_y','D_y', 'E_l'],\n",
      "                ['A_y','P_y','T_y','D_y'],\n",
      "                ['A_y','B_y','C_y'],\n",
      "                ['A_y','C_y','D_y','B_y'],\n",
      "                ['A_z','C_z','D_z','B_z']]\n",
      "\n",
      "myList_prefixes = set((x[0] for x in myList))\n",
      "\n",
      "listOfInd = []\n",
      "for idx, sublist in enumerate(myListOfList):\n",
      "    if len(sublist) != len(myList):\n",
      "        continue\n",
      "    sublist_suffixes = set((x[-1] for x in sublist))\n",
      "    if len(sublist_suffixes) != 1:\n",
      "        continue\n",
      "    sublist_prefixes = set((x[0] for x in sublist))\n",
      "    if sublist_prefixes != myList_prefixes:\n",
      "        continue\n",
      "    listOfInd.append(idx)\n",
      "listOfInd"
     ],
     "language": "python",
     "metadata": {},
     "outputs": [
      {
       "metadata": {},
       "output_type": "pyout",
       "prompt_number": 13,
       "text": [
        "[1, 6, 7]"
       ]
      }
     ],
     "prompt_number": 13
    }
   ],
   "metadata": {}
  }
 ]
}