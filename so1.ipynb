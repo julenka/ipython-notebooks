{
 "metadata": {
  "name": "",
  "signature": "sha256:649c04c1c2a4c7907f958d747f39b4593f988274f09b502c0979f0422d5207b2"
 },
 "nbformat": 3,
 "nbformat_minor": 0,
 "worksheets": [
  {
   "cells": [
    {
     "cell_type": "markdown",
     "metadata": {},
     "source": [
      "## Support vector machine in Python using libsvm example of features\n",
      "Stackoverflow questions by Usi Usi: http://stackoverflow.com/questions/30991592/support-vector-machine-in-python-using-libsvm-example-of-features\n",
      "### Step 0: Install dependencies\n",
      "You need to install the following libraries:\n",
      "* pandas\n",
      "* scikit-learn\n",
      "\n",
      "From command line:\n",
      "\n",
      "```\n",
      "pip install pandas\n",
      "pip install scikit-learn\n",
      "```\n",
      "\n",
      "### Step 1: Load the data\n",
      "We will use pandas to load our data.\n",
      "pandas is a library for easily loading data. For illustration, we first save sample data to a csv and then load it.\n",
      "\n",
      "We will train the SVM with `train.csv` and get test labels with `test.csv`"
     ]
    },
    {
     "cell_type": "code",
     "collapsed": false,
     "input": [
      "import pandas as pd\n",
      "\n",
      "train_data_contents = \"\"\"\n",
      "class_label,distance_from_beginning,distance_from_end,contains_digit,capitalized\n",
      "B,1,10,1,0\n",
      "M,10,1,0,1\n",
      "C,2,3,0,1\n",
      "S,23,2,0,0\n",
      "N,12,0,0,1\"\"\"\n",
      "\n",
      "\n",
      "with open('train.csv', 'w') as output:\n",
      "    output.write(train_data_contents)\n",
      "    \n",
      "train_dataframe = pd.read_csv('train.csv')\n"
     ],
     "language": "python",
     "metadata": {},
     "outputs": [],
     "prompt_number": 76
    },
    {
     "cell_type": "markdown",
     "metadata": {},
     "source": [
      "### Step 2: Process the data\n",
      "We will convert our dataframe into numpy arrays which is a format that scikit-learn understands.\n",
      "\n",
      "We need to convert the labels \"B\", \"M\", \"C\",... to numbers also because svm does not understand strings.\n",
      "\n",
      "Then we will train a linear svm with the data"
     ]
    },
    {
     "cell_type": "code",
     "collapsed": false,
     "input": [
      "import numpy as np\n",
      "\n",
      "train_labels = train_dataframe.class_label\n",
      "labels = list(set(train_labels))\n",
      "train_labels = np.array([labels.index(x) for x in train_labels])\n",
      "train_features = train_dataframe.iloc[:,1:]\n",
      "train_features = np.array(train_features)\n",
      "\n",
      "print \"train labels: \"\n",
      "print train_labels\n",
      "print \n",
      "print \"train features:\"\n",
      "print train_features\n"
     ],
     "language": "python",
     "metadata": {},
     "outputs": [
      {
       "output_type": "stream",
       "stream": "stdout",
       "text": [
        "train labels: \n",
        "[1 2 0 3 4]\n",
        "\n",
        "train features:\n",
        "[[ 1 10  1  0]\n",
        " [10  1  0  1]\n",
        " [ 2  3  0  1]\n",
        " [23  2  0  0]\n",
        " [12  0  0  1]]\n"
       ]
      }
     ],
     "prompt_number": 78
    },
    {
     "cell_type": "markdown",
     "metadata": {},
     "source": [
      "We see here that the length of `train_labels` (5) exactly matches how many rows we have in `trainfeatures`. Each item in `train_labels` corresponds to a row. "
     ]
    },
    {
     "cell_type": "markdown",
     "metadata": {},
     "source": [
      "### Step 3: Train the SVM"
     ]
    },
    {
     "cell_type": "code",
     "collapsed": false,
     "input": [
      "from sklearn import svm\n",
      "classifier = svm.SVC()\n",
      "classifier.fit(train_features, train_labels)"
     ],
     "language": "python",
     "metadata": {},
     "outputs": [
      {
       "metadata": {},
       "output_type": "pyout",
       "prompt_number": 65,
       "text": [
        "SVC(C=1.0, cache_size=200, class_weight=None, coef0=0.0, degree=3, gamma=0.0,\n",
        "  kernel='rbf', max_iter=-1, probability=False, random_state=None,\n",
        "  shrinking=True, tol=0.001, verbose=False)"
       ]
      }
     ],
     "prompt_number": 65
    },
    {
     "cell_type": "markdown",
     "metadata": {},
     "source": [
      "### Step 4: Evaluate the SVM on some testing data"
     ]
    },
    {
     "cell_type": "code",
     "collapsed": false,
     "input": [
      "test_data_contents = \"\"\"\n",
      "class_label,distance_from_beginning,distance_from_end,contains_digit,capitalized\n",
      "B,1,10,1,0\n",
      "M,10,1,0,1\n",
      "C,2,3,0,1\n",
      "S,23,2,0,0\n",
      "N,12,0,0,1\n",
      "\"\"\"\n",
      "\n",
      "with open('test.csv', 'w') as output:\n",
      "    output.write(test_data_contents)\n",
      "\n",
      "test_dataframe = pd.read_csv('test.csv')\n",
      "\n",
      "train_labels = test_dataframe.class_label\n",
      "labels = list(set(train_labels))\n",
      "test_labels = np.array([labels.index(x) for x in train_labels])\n",
      "\n",
      "test_features = test_dataframe.iloc[:,1:]\n",
      "test_features = np.array(test_features)\n",
      "\n",
      "results = classifier.predict(test_features)\n",
      "num_correct = (results == test_labels).sum()\n",
      "recall = num_correct / len(test_labels)\n",
      "print \"model accuracy (%): \", recall * 100, \"%\""
     ],
     "language": "python",
     "metadata": {},
     "outputs": [
      {
       "output_type": "stream",
       "stream": "stdout",
       "text": [
        "model accuracy (%):  100 %\n"
       ]
      }
     ],
     "prompt_number": 75
    },
    {
     "cell_type": "markdown",
     "metadata": {},
     "source": [
      "### Links & Tips\n",
      "* [Example code for how to load LinearSVC](http://scikit-learn.org/stable/modules/svm.html#svm)\n",
      "* [Long list of scikit-learn examples](http://scikit-learn.org/stable/auto_examples/index.html). I've found these mildly helpful but often confusing myself.\n",
      "* If you find that the SVM is taking a long time to train, try [LinearSVC instead](http://scikit-learn.org/stable/modules/generated/sklearn.svm.LinearSVC.html)\n"
     ]
    }
   ],
   "metadata": {}
  }
 ]
}