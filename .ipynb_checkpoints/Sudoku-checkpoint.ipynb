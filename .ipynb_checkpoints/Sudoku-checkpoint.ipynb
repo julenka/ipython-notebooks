{
 "cells": [
  {
   "cell_type": "markdown",
   "metadata": {},
   "source": [
    "## Sudoku\n",
    "Python examples from Peter Norvig's [Sudoku solver](http://norvig.com/sudoku.html)"
   ]
  },
  {
   "cell_type": "code",
   "execution_count": 4,
   "metadata": {
    "collapsed": true
   },
   "outputs": [],
   "source": [
    "def cross(A, B):\n",
    "    \"Cross product of elements in A and elements in B.\"\n",
    "    return [a+b for a in A for b in B]"
   ]
  },
  {
   "cell_type": "code",
   "execution_count": 7,
   "metadata": {
    "collapsed": false
   },
   "outputs": [],
   "source": [
    "digits   = '123456789'\n",
    "rows     = 'ABCDEFGHI'\n",
    "cols     = digits\n",
    "squares  = cross(rows, cols)\n",
    "unitlist = ([cross(rows, c) for c in cols] +\n",
    "            [cross(r, cols) for r in rows] +\n",
    "            [cross(rs, cs) for rs in ('ABC','DEF','GHI') for cs in ('123','456','789')])\n",
    "units = {s: [u for u in unitlist if s in u]\n",
    "             for s in squares}\n",
    "peers = {s: set(sum(units[s],[]))-set([s])\n",
    "             for s in squares}"
   ]
  },
  {
   "cell_type": "code",
   "execution_count": 9,
   "metadata": {
    "collapsed": true
   },
   "outputs": [],
   "source": [
    "# code for parsing\n",
    "def parse_grid(grid):\n",
    "    \"\"\"Convert grid to a dict of possible values, {square: digits}, or\n",
    "    return False if a contradiction is detected.\"\"\"\n",
    "    ## To start, every square can be any digit; then assign values from the grid.\n",
    "    values = dict((s, digits) for s in squares)\n",
    "    for s,d in grid_values(grid).items():\n",
    "        if d in digits and not assign(values, s, d):\n",
    "            return False ## (Fail if we can't assign d to square s.)\n",
    "    return values\n",
    "\n",
    "def grid_values(grid):\n",
    "    \"Convert grid into a dict of {square: char} with '0' or '.' for empties.\"\n",
    "    chars = [c for c in grid if c in digits or c in '0.']\n",
    "    assert len(chars) == 81\n",
    "    return dict(zip(squares, chars))"
   ]
  },
  {
   "cell_type": "code",
   "execution_count": 73,
   "metadata": {
    "collapsed": false
   },
   "outputs": [],
   "source": [
    "# Code for constraint propagation\n",
    "\n",
    "def assign(values, s, d):\n",
    "    \"\"\"Eliminate all the other values (except d) from values[s] and propagate.\n",
    "    Return values, except return False if a contradiction is detected.\"\"\"\n",
    "    other_values = values[s].replace(d, '')\n",
    "    if all(eliminate(values, s, d2) for d2 in other_values):\n",
    "        return values\n",
    "    else:\n",
    "        return False\n",
    "\n",
    "def eliminate(values, s, d):\n",
    "    \"\"\"Eliminate d from values[s]; propagate when values or places <= 2.\n",
    "    Return values, except return False if a contradiction is detected.\"\"\"\n",
    "    if d not in values[s]:\n",
    "        return values ## Already eliminated\n",
    "    values[s] = values[s].replace(d,'')\n",
    "    ## (1) If a square s is reduced to one value d2, then eliminate d2 from the peers.\n",
    "    if len(values[s]) == 0:\n",
    "        return False ## Contradiction: removed last value\n",
    "    elif len(values[s]) == 1:\n",
    "        d2 = values[s]\n",
    "        if not all(eliminate(values, s2, d2) for s2 in peers[s]):\n",
    "            return False\n",
    "    ## (2) If a unit u is reduced to only one place for a value d, then put it there.\n",
    "    for u in units[s]:\n",
    "        dplaces = [s for s in u if d in values[s]]\n",
    "        if len(dplaces) == 0:\n",
    "            return False ## Contradiction: no place for this value\n",
    "        elif len(dplaces) == 1:\n",
    "            # d can only be in one place in unit; assign it there\n",
    "                if not assign(values, dplaces[0], d):\n",
    "                    return False\n",
    "    return values"
   ]
  },
  {
   "cell_type": "code",
   "execution_count": 11,
   "metadata": {
    "collapsed": false
   },
   "outputs": [
    {
     "name": "stdout",
     "output_type": "stream",
     "text": [
      "4 8 3 |9 2 1 |6 5 7 \n",
      "9 6 7 |3 4 5 |8 2 1 \n",
      "2 5 1 |8 7 6 |4 9 3 \n",
      "------+------+------\n",
      "5 4 8 |1 3 2 |9 7 6 \n",
      "7 2 9 |5 6 4 |1 3 8 \n",
      "1 3 6 |7 9 8 |2 4 5 \n",
      "------+------+------\n",
      "3 7 2 |6 8 9 |5 1 4 \n",
      "8 1 4 |2 5 3 |7 6 9 \n",
      "6 9 5 |4 1 7 |3 8 2 \n",
      "\n"
     ]
    }
   ],
   "source": [
    "# Code for displaying\n",
    "def display(values):\n",
    "    \"Display these values as a 2-D grid.\"\n",
    "    width = 1+max(len(values[s]) for s in squares)\n",
    "    line = '+'.join(['-'*(width*3)]*3)\n",
    "    for r in rows:\n",
    "        print(''.join(values[r+c].center(width)+('|' if c in '36' else '')\n",
    "                      for c in cols))\n",
    "        if r in 'CF': print(line)\n",
    "    print()\n",
    "\n",
    "grid1 = '003020600900305001001806400008102900700000008006708200002609500800203009005010300'\n",
    "display(parse_grid(grid1))"
   ]
  },
  {
   "cell_type": "markdown",
   "metadata": {},
   "source": [
    "### Applying Constraint Propagation to Chessbits puzzle\n",
    "Let's see if I can apply constraint propagation to my chessbit puzzle. The units and peers for each square are different, but otherwise the problem is the same."
   ]
  },
  {
   "cell_type": "code",
   "execution_count": 99,
   "metadata": {
    "collapsed": false
   },
   "outputs": [],
   "source": [
    "num_bits = 8\n",
    "num_elements = 128\n",
    "\n",
    "bit_mappings = defaultdict(list)\n",
    "for i in range(num_elements):\n",
    "    bit_mappings[i].append(i)\n",
    "    for bit_index in range(num_bits - 1):\n",
    "        mask = 1 << bit_index\n",
    "        mask2 = num_elements - 1\n",
    "\n",
    "        bit_mappings[i].append((i ^ mask) & mask2)\n",
    "assert all(len(bit_mappings[i]) == 8 for i in bit_mappings)\n"
   ]
  },
  {
   "cell_type": "code",
   "execution_count": 107,
   "metadata": {
    "collapsed": false
   },
   "outputs": [],
   "source": [
    "# New Version\n",
    "from collections import defaultdict\n",
    "\n",
    "# Update the units, rows, peers, digits\n",
    "digits   = ''.join(range(64)) # '12345678'\n",
    "\n",
    "rows     = 'ABCDEFGHIJKLMNOP'\n",
    "cols     = digits\n",
    "squares  = cross(rows, cols)\n",
    "\n",
    "symmetric_map = dict(zip(squares, squares[::-1]))\n",
    "units = {}\n",
    "units = defaultdict(list)\n",
    "for i, s in enumerate(squares):\n",
    "    for mapped_bit in bit_mappings[i]:\n",
    "        new_unit = [squares[remapped_bit] for remapped_bit in bit_mappings[mapped_bit]]\n",
    "        units[s].append(new_unit)\n",
    "        # get the squares for this unit\n",
    "\n",
    "peers = {s: set(sum(units[s],[]))-set([s])\n",
    "             for s in squares}"
   ]
  },
  {
   "cell_type": "code",
   "execution_count": 122,
   "metadata": {
    "collapsed": false
   },
   "outputs": [
    {
     "name": "stdout",
     "output_type": "stream",
     "text": [
      "0123456789101112131415161718192021222324252627282930313233343536373839404142434445464748495051525354555657585960616263\n",
      "0123456789101112131415161718192021222324252627282930313233343536373839404142434445464748495051525354555657585960616263\n"
     ]
    }
   ],
   "source": [
    "digits   = ''.join(str(x) for x in range(64)) # '12345678'\n",
    "rows     = ''.join(str(x) for x in range(64)) # '12345678'\n",
    "print(digits)\n",
    "print(rows)"
   ]
  },
  {
   "cell_type": "code",
   "execution_count": 111,
   "metadata": {
    "collapsed": false
   },
   "outputs": [
    {
     "name": "stdout",
     "output_type": "stream",
     "text": [
      "All tests pass\n"
     ]
    }
   ],
   "source": [
    "def test():\n",
    "    assert len(squares) == 128\n",
    "    #assert all(len(peers[s]) == 15 for s in squares)\n",
    "    print(\"All tests pass\")\n",
    "\n",
    "test()"
   ]
  },
  {
   "cell_type": "code",
   "execution_count": 112,
   "metadata": {
    "collapsed": true
   },
   "outputs": [],
   "source": [
    "# code for parsing\n",
    "def parse_grid(grid):\n",
    "    \"\"\"Convert grid to a dict of possible values, {square: digits}, or\n",
    "    return False if a contradiction is detected.\"\"\"\n",
    "    ## To start, every square can be any digit; then assign values from the grid.\n",
    "    values = dict((s, digits) for s in squares)\n",
    "    for s,d in grid_values(grid).items():\n",
    "        if d in digits and not assign(values, s, d):\n",
    "            return False ## (Fail if we can't assign d to square s.)\n",
    "    return values\n",
    "\n",
    "def grid_values(grid):\n",
    "    \"Convert grid into a dict of {square: char} with '0' or '.' for empties.\"\n",
    "    chars = [c for c in grid if c in digits or c in '0.']\n",
    "    assert len(chars) == num_elements\n",
    "    return dict(zip(squares, chars))"
   ]
  },
  {
   "cell_type": "code",
   "execution_count": 116,
   "metadata": {
    "collapsed": false
   },
   "outputs": [],
   "source": [
    "# Code for constraint propagation\n",
    "\n",
    "def assign(values, s, d):\n",
    "    \"\"\"Eliminate all the other values (except d) from values[s] and propagate.\n",
    "    Return values, except return False if a contradiction is detected.\"\"\"\n",
    "    other_values = values[s].replace(d, '')\n",
    "    if all(eliminate(values, s, d2) for d2 in other_values):\n",
    "        # Find the symmetric square and eliminate those values as well\n",
    "#         return values\n",
    "        symmetric_square = symmetric_map[s]\n",
    "        if all(eliminate(values, symmetric_square, d2) for d2 in other_values):\n",
    "            return values\n",
    "    else:\n",
    "        return False\n",
    "\n",
    "def eliminate(values, s, d):\n",
    "    \"\"\"Eliminate d from values[s]; propagate when values or places <= 2.\n",
    "    Return values, except return False if a contradiction is detected.\"\"\"\n",
    "    if d not in values[s]:\n",
    "        return values ## Already eliminated\n",
    "    values[s] = values[s].replace(d,'')\n",
    "    ## (1) If a square s is reduced to one value d2, then eliminate d2 from the peers.\n",
    "    if len(values[s]) == 0:\n",
    "        return False ## Contradiction: removed last value\n",
    "    elif len(values[s]) == 1:\n",
    "        d2 = values[s]\n",
    "        if not all(eliminate(values, s2, d2) for s2 in peers[s]):\n",
    "            return False\n",
    "    ## (2) If a unit u is reduced to only one place for a value d, then put it there.\n",
    "    for u in units[s]:\n",
    "        dplaces = [s for s in u if d in values[s]]\n",
    "        if len(dplaces) == 0:\n",
    "            return False ## Contradiction: no place for this value\n",
    "        elif len(dplaces) == 1:\n",
    "            # d can only be in one place in unit; assign it there\n",
    "                if not assign(values, dplaces[0], d):\n",
    "                    return False\n",
    "    return values"
   ]
  },
  {
   "cell_type": "code",
   "execution_count": 117,
   "metadata": {
    "collapsed": false
   },
   "outputs": [
    {
     "name": "stdout",
     "output_type": "stream",
     "text": [
      "------------------------------------------------\n",
      "  1     2   45678   3   35678   4   25678 15678 \n",
      "34678   5   24678 14678 23678 13678 12345 12678 \n",
      "34578   6   24578 14578 23578 13578 12346 12578 \n",
      "23478 13478 12356 12478 12456 12378 13456 23456 \n",
      "34568   7   24568 14568 23568 13568 12347 12568 \n",
      "23468 13468 12357 12468 12457 12368 13457 23457 \n",
      "23458 13458 12367 12458 12467 12358 13467 23467 \n",
      "12567 12348 13567 23567 14567 24567   8   34567 \n",
      "34567   8   24567 14567 23567 13567 12348 12567 \n",
      "23467 13467 12358 12467 12458 12367 13458 23458 \n",
      "23457 13457 12368 12457 12468 12357 13468 23468 \n",
      "12568 12347 13568 23568 14568 24568   7   34568 \n",
      "23456 13456 12378 12456 12478 12356 13478 23478 \n",
      "12578 12346 13578 23578 14578 24578   6   34578 \n",
      "12678 12345 13678 23678 14678 24678   5   34678 \n",
      "15678 25678   4   35678   3   45678   2     1   \n",
      "------------------------------------------------\n",
      "\n"
     ]
    }
   ],
   "source": [
    "# Code for displaying\n",
    "def display(values):\n",
    "    \"Display these values as a 2-D grid.\"\n",
    "    width = 1+max(len(values[s]) for s in squares)\n",
    "    line = '-'* width*8\n",
    "    print(line)\n",
    "    for r in rows:\n",
    "        print(''.join(values[r+c].center(width) for c in cols))\n",
    "    print(line)\n",
    "    print()\n",
    "\n",
    "grid1 = \"12030400050000000600000000000000070000000000000000000000000000800800000000000000000000000000007000000000000000600000005000403021\"\n",
    "display(parse_grid(grid1))"
   ]
  },
  {
   "cell_type": "markdown",
   "metadata": {},
   "source": [
    "It looks like just constraint propagation is not enough, sadly. We will have to continue searching."
   ]
  },
  {
   "cell_type": "code",
   "execution_count": 118,
   "metadata": {
    "collapsed": false,
    "scrolled": false
   },
   "outputs": [
    {
     "name": "stdout",
     "output_type": "stream",
     "text": [
      "----------------\n",
      "1 2 4 3 8 4 6 5 \n",
      "3 5 7 6 2 7 1 8 \n",
      "5 6 8 7 7 1 3 2 \n",
      "4 8 2 1 6 3 5 4 \n",
      "6 7 2 8 5 3 7 1 \n",
      "8 1 5 4 4 6 3 2 \n",
      "3 4 1 5 2 8 4 6 \n",
      "7 2 6 3 1 5 8 7 \n",
      "7 8 5 1 3 6 2 7 \n",
      "6 4 8 2 5 1 4 3 \n",
      "2 3 6 4 4 5 1 8 \n",
      "1 7 3 5 8 2 7 6 \n",
      "4 5 3 6 1 2 8 4 \n",
      "2 3 1 7 7 8 6 5 \n",
      "8 1 7 2 6 7 5 3 \n",
      "5 6 4 8 3 4 2 1 \n",
      "----------------\n",
      "\n"
     ]
    }
   ],
   "source": [
    "def solve(grid): return search(parse_grid(grid))\n",
    "def search(values):\n",
    "    \"Using depth-first search and propagation, try all possible values.\"\n",
    "    if not values:\n",
    "        return False ## Failed earlier\n",
    "    if all(len(values[s]) == 1 for s in squares): \n",
    "        return values ## Solved!\n",
    "#     display(values)\n",
    "#     print(\"press enter\")\n",
    "#     _ = input()\n",
    "    ## Chose the unfilled square s with the fewest possibilities\n",
    "    n,s = min((len(values[s]), s) for s in squares if len(values[s]) > 1)\n",
    "    return some(search(assign(values.copy(), s, d)) \n",
    "        for d in values[s])\n",
    "\n",
    "def some(seq):\n",
    "    \"Return some element of seq that is true.\"\n",
    "    for e in seq:\n",
    "        if e: return e\n",
    "    return False\n",
    "\n",
    "result = solve(grid1)\n",
    "if(result):\n",
    "    display(result)\n",
    "else:\n",
    "    print(\"no solution found\")"
   ]
  },
  {
   "cell_type": "code",
   "execution_count": 119,
   "metadata": {
    "collapsed": false,
    "scrolled": false
   },
   "outputs": [
    {
     "data": {
      "text/plain": [
       "['1',\n",
       " '2',\n",
       " '4',\n",
       " '3',\n",
       " '8',\n",
       " '4',\n",
       " '6',\n",
       " '5',\n",
       " '3',\n",
       " '5',\n",
       " '7',\n",
       " '6',\n",
       " '2',\n",
       " '7',\n",
       " '1',\n",
       " '8',\n",
       " '5',\n",
       " '6',\n",
       " '8',\n",
       " '7',\n",
       " '7',\n",
       " '1',\n",
       " '3',\n",
       " '2',\n",
       " '4',\n",
       " '8',\n",
       " '2',\n",
       " '1',\n",
       " '6',\n",
       " '3',\n",
       " '5',\n",
       " '4',\n",
       " '6',\n",
       " '7',\n",
       " '2',\n",
       " '8',\n",
       " '5',\n",
       " '3',\n",
       " '7',\n",
       " '1',\n",
       " '8',\n",
       " '1',\n",
       " '5',\n",
       " '4',\n",
       " '4',\n",
       " '6',\n",
       " '3',\n",
       " '2',\n",
       " '3',\n",
       " '4',\n",
       " '1',\n",
       " '5',\n",
       " '2',\n",
       " '8',\n",
       " '4',\n",
       " '6',\n",
       " '7',\n",
       " '2',\n",
       " '6',\n",
       " '3',\n",
       " '1',\n",
       " '5',\n",
       " '8',\n",
       " '7',\n",
       " '7',\n",
       " '8',\n",
       " '5',\n",
       " '1',\n",
       " '3',\n",
       " '6',\n",
       " '2',\n",
       " '7',\n",
       " '6',\n",
       " '4',\n",
       " '8',\n",
       " '2',\n",
       " '5',\n",
       " '1',\n",
       " '4',\n",
       " '3',\n",
       " '2',\n",
       " '3',\n",
       " '6',\n",
       " '4',\n",
       " '4',\n",
       " '5',\n",
       " '1',\n",
       " '8',\n",
       " '1',\n",
       " '7',\n",
       " '3',\n",
       " '5',\n",
       " '8',\n",
       " '2',\n",
       " '7',\n",
       " '6',\n",
       " '4',\n",
       " '5',\n",
       " '3',\n",
       " '6',\n",
       " '1',\n",
       " '2',\n",
       " '8',\n",
       " '4',\n",
       " '2',\n",
       " '3',\n",
       " '1',\n",
       " '7',\n",
       " '7',\n",
       " '8',\n",
       " '6',\n",
       " '5',\n",
       " '8',\n",
       " '1',\n",
       " '7',\n",
       " '2',\n",
       " '6',\n",
       " '7',\n",
       " '5',\n",
       " '3',\n",
       " '5',\n",
       " '6',\n",
       " '4',\n",
       " '8',\n",
       " '3',\n",
       " '4',\n",
       " '2',\n",
       " '1']"
      ]
     },
     "execution_count": 119,
     "metadata": {},
     "output_type": "execute_result"
    }
   ],
   "source": [
    "[result[s] for s in squares]"
   ]
  }
 ],
 "metadata": {
  "kernelspec": {
   "display_name": "Python 3",
   "language": "python",
   "name": "python3"
  },
  "language_info": {
   "codemirror_mode": {
    "name": "ipython",
    "version": 3
   },
   "file_extension": ".py",
   "mimetype": "text/x-python",
   "name": "python",
   "nbconvert_exporter": "python",
   "pygments_lexer": "ipython3",
   "version": "3.4.3"
  }
 },
 "nbformat": 4,
 "nbformat_minor": 0
}
