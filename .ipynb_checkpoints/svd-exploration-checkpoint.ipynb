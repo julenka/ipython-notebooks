{
 "cells": [
  {
   "cell_type": "markdown",
   "metadata": {},
   "source": [
    "### Singular Value Decomposition Notes\n",
    "Code examples from [andrew.gibiansky.com tutorial](http://andrew.gibiansky.com/blog/mathematics/cool-linear-algebra-singular-value-decomposition/)"
   ]
  },
  {
   "cell_type": "code",
   "execution_count": 9,
   "metadata": {
    "collapsed": false
   },
   "outputs": [],
   "source": [
    "from scipy import ndimage, misc\n",
    "import matplotlib.pyplot as plt\n",
    "\n",
    "tiger = misc.imread('tiger.jpg', flatten=True)\n",
    "plt.gray()\n",
    "plt.imshow(tiger)\n",
    "plt.show()"
   ]
  },
  {
   "cell_type": "code",
   "execution_count": 13,
   "metadata": {
    "collapsed": false
   },
   "outputs": [
    {
     "data": {
      "text/plain": [
       "(1000L, 1600L)"
      ]
     },
     "execution_count": 13,
     "metadata": {},
     "output_type": "execute_result"
    }
   ],
   "source": [
    "tiger.shape"
   ]
  },
  {
   "cell_type": "code",
   "execution_count": 34,
   "metadata": {
    "collapsed": false
   },
   "outputs": [
    {
     "data": {
      "text/plain": [
       "((1000L, 1000L), (1000L, 1600L), (1000L,))"
      ]
     },
     "execution_count": 34,
     "metadata": {},
     "output_type": "execute_result"
    }
   ],
   "source": [
    "from scipy import linalg\n",
    "U, s, Vh = linalg.svd(tiger, full_matrices=0)\n",
    "U.shape, Vh.shape, s.shape"
   ]
  },
  {
   "cell_type": "code",
   "execution_count": 17,
   "metadata": {
    "collapsed": false
   },
   "outputs": [],
   "source": [
    "import numpy as np\n",
    "plt.plot(np.log10(s))\n",
    "plt.show()"
   ]
  },
  {
   "cell_type": "code",
   "execution_count": 29,
   "metadata": {
    "collapsed": false
   },
   "outputs": [],
   "source": [
    "s_sum=sum(s)\n",
    "s_cumsum=np.cumsum(s)\n",
    "s_cumsum_norm=s_cumsum / s_sum\n",
    "plt.title('Cumulative Percent of Total Sigmas')\n",
    "plt.plot(s_cumsum_norm)\n",
    "plt.ylim(0,1)\n",
    "plt.show()"
   ]
  },
  {
   "cell_type": "code",
   "execution_count": 42,
   "metadata": {
    "collapsed": false
   },
   "outputs": [
    {
     "name": "stdout",
     "output_type": "stream",
     "text": [
      "(1000L, 1000L) (1000L, 1000L) (1000L, 1600L)\n"
     ]
    }
   ],
   "source": [
    "def approx_image(U, s, Vh, rank):\n",
    "    \"\"\" \n",
    "    U: first argument from scipy.slinalg.svd output\n",
    "    s: second argument from scipy.slinalg.svd output. The diagonal elements.\n",
    "    Vh: third argument from scipy.slinalg.svd output\n",
    "    \"\"\"\n",
    "    \n",
    "    approx_sigma = s\n",
    "    approx_sigma[rank:] = 0\n",
    "    approx_S = np.diag(approx_sigma)\n",
    "    print U.shape, approx_S.shape, Vh.shape\n",
    "    approx_tiger = U.dot(approx_S).dot(Vh)\n",
    "    \n",
    "    return approx_tiger\n",
    "    \n",
    "approx_tiger_200 = approx_image(U, s, Vh, 200)\n"
   ]
  }
 ],
 "metadata": {
  "kernelspec": {
   "display_name": "Python 2",
   "language": "python",
   "name": "python2"
  },
  "language_info": {
   "codemirror_mode": {
    "name": "ipython",
    "version": 2
   },
   "file_extension": ".py",
   "mimetype": "text/x-python",
   "name": "python",
   "nbconvert_exporter": "python",
   "pygments_lexer": "ipython2",
   "version": "2.7.10"
  }
 },
 "nbformat": 4,
 "nbformat_minor": 0
}
